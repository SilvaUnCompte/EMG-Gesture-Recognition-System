{
 "cells": [
  {
   "cell_type": "markdown",
   "id": "2b512340",
   "metadata": {},
   "source": [
    "## Import data"
   ]
  },
  {
   "cell_type": "code",
   "execution_count": 2,
   "id": "d5f5e0a4",
   "metadata": {},
   "outputs": [
    {
     "name": "stdout",
     "output_type": "stream",
     "text": [
      "(138004, 13)\n",
      "<class 'pandas.core.frame.DataFrame'>\n",
      "RangeIndex: 138004 entries, 0 to 138003\n",
      "Data columns (total 13 columns):\n",
      " #   Column           Non-Null Count   Dtype \n",
      "---  ------           --------------   ----- \n",
      " 0   Threshold        138004 non-null  object\n",
      " 1   EMG1             138004 non-null  int64 \n",
      " 2   EMG2             138004 non-null  int64 \n",
      " 3   EMG3             138004 non-null  int64 \n",
      " 4   EMG4             138004 non-null  int64 \n",
      " 5   EMG5             138004 non-null  int64 \n",
      " 6   EMG6             138004 non-null  int64 \n",
      " 7   EMG7             138004 non-null  int64 \n",
      " 8   EMG8             138004 non-null  int64 \n",
      " 9   Framecount       138004 non-null  int64 \n",
      " 10  CurrentGestures  138004 non-null  object\n",
      " 11  SessionID        138004 non-null  object\n",
      " 12  Timestamp        138004 non-null  object\n",
      "dtypes: int64(9), object(4)\n",
      "memory usage: 13.7+ MB\n",
      "None\n"
     ]
    }
   ],
   "source": [
    "import pandas as pd # pyright: ignore[reportMissingModuleSource]\n",
    "\n",
    "emg_cols = ['EMG1', 'EMG2', 'EMG3', 'EMG4', 'EMG5', 'EMG6', 'EMG7', 'EMG8']\n",
    "GESTURE_COL = \"CurrentGestures\"\n",
    "THRESHOLD_COL = \"Threshold\"\n",
    "\n",
    "df = pd.read_csv(\"../data3.csv\", sep=\";\")\n",
    "print(df.shape)  # dimensions\n",
    "print(df.info())  # types and missing values"
   ]
  },
  {
   "cell_type": "markdown",
   "id": "a3cbb9de",
   "metadata": {},
   "source": [
    "## Clean data\n",
    "### Manage missing data"
   ]
  },
  {
   "cell_type": "code",
   "execution_count": 1,
   "id": "79ff055d",
   "metadata": {},
   "outputs": [
    {
     "ename": "NameError",
     "evalue": "name 'df' is not defined",
     "output_type": "error",
     "traceback": [
      "\u001b[31m---------------------------------------------------------------------------\u001b[39m",
      "\u001b[31mNameError\u001b[39m                                 Traceback (most recent call last)",
      "\u001b[36mCell\u001b[39m\u001b[36m \u001b[39m\u001b[32mIn[1]\u001b[39m\u001b[32m, line 1\u001b[39m\n\u001b[32m----> \u001b[39m\u001b[32m1\u001b[39m df = \u001b[43mdf\u001b[49m.drop_duplicates()  \u001b[38;5;66;03m# remove duplicate rows\u001b[39;00m\n\u001b[32m      2\u001b[39m df = df.dropna() \u001b[38;5;66;03m# remove rows with missing values\u001b[39;00m\n",
      "\u001b[31mNameError\u001b[39m: name 'df' is not defined"
     ]
    }
   ],
   "source": [
    "df = df.drop_duplicates()  # remove duplicate rows\n",
    "df = df.dropna() # remove rows with missing values"
   ]
  },
  {
   "cell_type": "markdown",
   "id": "a1a49fc3",
   "metadata": {},
   "source": [
    "### Standardize data"
   ]
  },
  {
   "cell_type": "code",
   "execution_count": null,
   "id": "9fe7ad59",
   "metadata": {},
   "outputs": [],
   "source": [
    "from sklearn.preprocessing import StandardScaler # pyright: ignore[reportMissingModuleSource]\n",
    "\n",
    "# Standardization\n",
    "scaler = StandardScaler()\n",
    "standard_data = scaler.fit_transform(df[emg_cols])"
   ]
  },
  {
   "cell_type": "markdown",
   "id": "4025849b",
   "metadata": {},
   "source": [
    "### Encode label"
   ]
  },
  {
   "cell_type": "code",
   "execution_count": null,
   "id": "21b976da",
   "metadata": {},
   "outputs": [
    {
     "name": "stdout",
     "output_type": "stream",
     "text": [
      "\n",
      "Encoded labels:\n",
      "        label CurrentGestures\n",
      "0           0            fist\n",
      "27026       1           pinch\n",
      "53852       3      wrist-back\n",
      "80744       4   wrist-forward\n",
      "106544      2            rest\n"
     ]
    }
   ],
   "source": [
    "from sklearn.preprocessing import LabelEncoder # pyright: ignore[reportMissingModuleSource]\n",
    "\n",
    "encoder = LabelEncoder()\n",
    "df['label'] = encoder.fit_transform(df[GESTURE_COL])\n",
    "\n",
    "print(\"\\nEncoded labels:\")\n",
    "print(df[['label', GESTURE_COL]].drop_duplicates())"
   ]
  },
  {
   "cell_type": "markdown",
   "id": "c411dbc5",
   "metadata": {},
   "source": [
    "### Split data"
   ]
  },
  {
   "cell_type": "code",
   "execution_count": null,
   "id": "8110df64",
   "metadata": {},
   "outputs": [],
   "source": [
    "from sklearn.model_selection import train_test_split\n",
    "\n",
    "# Use the cleaned and prepared dataframe from previous cells\n",
    "# Separate features (X) and labels (y)\n",
    "X = standard_data\n",
    "y = df['label']\n",
    "\n",
    "# 3. Split dataset into train, validation, and test sets\n",
    "X_train, X_temp, y_train, y_temp = train_test_split(X, y, test_size=0.3, random_state=42)\n",
    "X_val, X_test, y_val, y_test = train_test_split(X_temp, y_temp, test_size=0.5, random_state=42)"
   ]
  },
  {
   "cell_type": "markdown",
   "id": "9218671e",
   "metadata": {},
   "source": [
    "## Evaluation"
   ]
  },
  {
   "cell_type": "code",
   "execution_count": null,
   "id": "84822b5a",
   "metadata": {},
   "outputs": [],
   "source": [
    "from sklearn.metrics import confusion_matrix, roc_curve, auc, accuracy_score, classification_report\n",
    "from sklearn.model_selection import cross_val_score\n",
    "from sklearn.preprocessing import label_binarize\n",
    "import matplotlib.pyplot as plt\n",
    "import seaborn as sns\n",
    "\n",
    "def evaluate_model(model, X_val, y_val):\n",
    "    # Evaluate on validation set\n",
    "    y_pred = model.predict(X_val)\n",
    "    print(\"Validation accuracy:\", accuracy_score(y_val, y_pred))\n",
    "    print(classification_report(y_val, y_pred))\n",
    "\t\n",
    "    # Cross-validation\n",
    "    scores = cross_val_score(model, X_val, y_val, cv=5)\n",
    "    print(\"Cross-validation scores:\", scores)\n",
    "    print(\"Mean accuracy:\", scores.mean())\n",
    "\n",
    "\n",
    "    # Plot confusion matrix\n",
    "    cm = confusion_matrix(y_val, y_pred)\n",
    "\n",
    "    sns.heatmap(cm, annot=True, fmt=\"d\", cmap=\"Blues\")\n",
    "    plt.xlabel(\"Predicted\")\n",
    "    plt.ylabel(\"True\")\n",
    "    plt.show()\n",
    "\n",
    "\n",
    "    # ROC Curve\n",
    "    y_val_bin = label_binarize(y_val, classes=model.classes_)\n",
    "    probs_full = model.predict_proba(X_val)\n",
    "\n",
    "    plt.figure()\n",
    "    for i in range(y_val_bin.shape[1]):\n",
    "        fpr, tpr, _ = roc_curve(y_val_bin[:, i], probs_full[:, i])\n",
    "        roc_auc = auc(fpr, tpr)\n",
    "        plt.plot(fpr, tpr, label=f\"Class {i} (AUC = {roc_auc:.2f})\")\n",
    "\n",
    "    plt.xlabel(\"False Positive Rate\")\n",
    "    plt.ylabel(\"True Positive Rate\")\n",
    "    plt.title(\"Multiclass ROC Curve\")\n",
    "    plt.legend()\n",
    "    plt.show()"
   ]
  },
  {
   "cell_type": "markdown",
   "id": "c68c2e3a",
   "metadata": {},
   "source": [
    "## Artificial Neural Network"
   ]
  },
  {
   "cell_type": "code",
   "execution_count": null,
   "id": "b20e4830",
   "metadata": {},
   "outputs": [],
   "source": [
    "from sklearn.neural_network import MLPClassifier\n",
    "\n",
    "def create_mlp_model(hidden_layer_sizes, activation, alpha, learning_rate_init):\n",
    "    return MLPClassifier(\n",
    "        hidden_layer_sizes=hidden_layer_sizes,\n",
    "        activation=activation,\n",
    "        solver='adam',\n",
    "        alpha=alpha,                                    # L2 regularization\n",
    "        learning_rate_init=learning_rate_init,\n",
    "        max_iter=2000,\n",
    "        validation_fraction=0.2,                        # Use 20% of training data for validation\n",
    "        early_stopping=True,                            # Stop when validation score stops improving\n",
    "        n_iter_no_change=50,                            # Stop after 50 iterations without improvement\n",
    "        random_state=42,\n",
    "        batch_size='auto'\n",
    "    )"
   ]
  },
  {
   "cell_type": "markdown",
   "id": "5b451aa6",
   "metadata": {},
   "source": [
    "## Hyperparameter optimization"
   ]
  },
  {
   "cell_type": "code",
   "execution_count": null,
   "id": "ac3ddd4f",
   "metadata": {},
   "outputs": [
    {
     "ename": "ModuleNotFoundError",
     "evalue": "No module named 'optuna'",
     "output_type": "error",
     "traceback": [
      "\u001b[31m---------------------------------------------------------------------------\u001b[39m",
      "\u001b[31mModuleNotFoundError\u001b[39m                       Traceback (most recent call last)",
      "\u001b[36mCell\u001b[39m\u001b[36m \u001b[39m\u001b[32mIn[12]\u001b[39m\u001b[32m, line 1\u001b[39m\n\u001b[32m----> \u001b[39m\u001b[32m1\u001b[39m \u001b[38;5;28;01mimport\u001b[39;00m\u001b[38;5;250m \u001b[39m\u001b[34;01moptuna\u001b[39;00m\n\u001b[32m      3\u001b[39m \u001b[38;5;28;01mdef\u001b[39;00m\u001b[38;5;250m \u001b[39m\u001b[34mobjective\u001b[39m(trial):\n\u001b[32m      4\u001b[39m     hidden_layer_sizes = trial.suggest_categorical(\u001b[33m'\u001b[39m\u001b[33mhidden_layer_sizes\u001b[39m\u001b[33m'\u001b[39m, [\u001b[33m'\u001b[39m\u001b[33m32\u001b[39m\u001b[33m'\u001b[39m, \u001b[33m'\u001b[39m\u001b[33m64\u001b[39m\u001b[33m'\u001b[39m, \u001b[33m'\u001b[39m\u001b[33m64-32\u001b[39m\u001b[33m'\u001b[39m, \u001b[33m'\u001b[39m\u001b[33m128-64\u001b[39m\u001b[33m'\u001b[39m])\n",
      "\u001b[31mModuleNotFoundError\u001b[39m: No module named 'optuna'"
     ]
    }
   ],
   "source": [
    "import optuna\n",
    "\n",
    "def objective(trial):\n",
    "    hidden_layer_sizes = trial.suggest_categorical('hidden_layer_sizes', ['32', '64', '64-32', '128-64'])\n",
    "    layer_map = {\n",
    "        '32': (32,),\n",
    "        '64': (64,),\n",
    "        '64-32': (64, 32),\n",
    "        '128-64': (128, 64)\n",
    "    }\n",
    "    hidden_layer_sizes = layer_map[hidden_layer_sizes]\n",
    "\n",
    "    activation = trial.suggest_categorical('activation', ['relu', 'tanh'])\n",
    "    alpha = trial.suggest_float('alpha', 1e-4, 1e-1, log=True)\n",
    "    learning_rate_init = trial.suggest_float('learning_rate_init', 1e-4, 1e-1, log=True)\n",
    "\n",
    "    mlp = MLPClassifier(\n",
    "        hidden_layer_sizes=hidden_layer_sizes,\n",
    "        activation=activation,\n",
    "        alpha=alpha,\n",
    "        learning_rate_init=learning_rate_init,\n",
    "        max_iter=2000,\n",
    "        early_stopping=True,\n",
    "        random_state=42\n",
    "    )\n",
    "\n",
    "    scores = cross_val_score(mlp, X_train, y_train, cv=3, scoring='accuracy')\n",
    "    return scores.mean()\n",
    "\n",
    "\n",
    "# Run optimization\n",
    "study = optuna.create_study(direction='maximize')\n",
    "study.optimize(objective, n_trials=15)\n",
    "\n",
    "\n",
    "# Results Analysis\n",
    "df_results = study.trials_dataframe()\n",
    "df_sorted = df_results.sort_values('value', ascending=False)\n",
    "print(\"\\n===== Top 5 trials =====\\n\")\n",
    "print(df_sorted[['value', 'params_hidden_layer_sizes', 'params_activation', 'params_alpha', 'params_learning_rate_init']].head())\n",
    "\n",
    "\n",
    "# Plot accuracy vs learning rate\n",
    "plt.scatter(df_results['params_learning_rate_init'], df_results['value'])\n",
    "plt.xscale('log')\n",
    "plt.xlabel(\"Learning Rate Init\")\n",
    "plt.ylabel(\"Accuracy (CV mean)\")\n",
    "plt.title(\"Impact of Learning Rate on Accuracy\")\n",
    "plt.show()"
   ]
  },
  {
   "cell_type": "markdown",
   "id": "80c6014f",
   "metadata": {},
   "source": [
    "### Get best parameters"
   ]
  },
  {
   "cell_type": "code",
   "execution_count": null,
   "id": "f8541d97",
   "metadata": {},
   "outputs": [
    {
     "name": "stdout",
     "output_type": "stream",
     "text": [
      "Best parameters: {'hidden_layer_sizes': [64, 32], 'activation': 'relu', 'alpha': 0.002737774412777119, 'learning_rate_init': 0.0008820622180620331}\n"
     ]
    }
   ],
   "source": [
    "best_params = study.best_trial.params\n",
    "best_params['hidden_layer_sizes'] = [int(x) for x in best_params['hidden_layer_sizes'].split('-')]\n",
    "\n",
    "print(\"Best parameters:\", best_params)"
   ]
  },
  {
   "cell_type": "markdown",
   "id": "ae333df2",
   "metadata": {},
   "source": [
    "### Train final model"
   ]
  },
  {
   "cell_type": "code",
   "execution_count": null,
   "id": "8ac3f545",
   "metadata": {},
   "outputs": [
    {
     "name": "stdout",
     "output_type": "stream",
     "text": [
      "Training improved neural network...\n",
      "Training completed!\n",
      "Number of iterations: 123\n",
      "Final loss: 0.5457\n",
      "\n",
      "=== IMPROVED NEURAL NETWORK RESULTS ===\n",
      "Validation accuracy: 0.7848896188589923\n",
      "              precision    recall  f1-score   support\n",
      "\n",
      "           0       0.69      0.65      0.67      3991\n",
      "           1       0.63      0.67      0.65      4038\n",
      "           2       0.86      0.85      0.85      4731\n",
      "           3       0.85      0.86      0.85      4067\n",
      "           4       0.89      0.89      0.89      3874\n",
      "\n",
      "    accuracy                           0.78     20701\n",
      "   macro avg       0.78      0.78      0.78     20701\n",
      "weighted avg       0.79      0.78      0.79     20701\n",
      "\n",
      "Cross-validation scores: [0.77372615 0.77487923 0.76642512 0.77125604 0.7736715 ]\n",
      "Mean accuracy: 0.7719916074322173\n"
     ]
    },
    {
     "data": {
      "image/png": "[encoded data removed]",
      "text/plain": [
       "<Figure size 640x480 with 2 Axes>"
      ]
     },
     "metadata": {},
     "output_type": "display_data"
    },
    {
     "data": {
      "image/png": "[encoded data removed]",
      "text/plain": [
       "<Figure size 640x480 with 1 Axes>"
      ]
     },
     "metadata": {},
     "output_type": "display_data"
    },
    {
     "name": "stdout",
     "output_type": "stream",
     "text": [
      "\n",
      "============== Test Accuracy: 0.781459832858316 ==============\n",
      "              precision    recall  f1-score   support\n",
      "\n",
      "           0       0.70      0.65      0.67      4093\n",
      "           1       0.64      0.68      0.66      4140\n",
      "           2       0.85      0.85      0.85      4659\n",
      "           3       0.83      0.85      0.84      3960\n",
      "           4       0.90      0.89      0.89      3849\n",
      "\n",
      "    accuracy                           0.78     20701\n",
      "   macro avg       0.78      0.78      0.78     20701\n",
      "weighted avg       0.78      0.78      0.78     20701\n",
      "\n"
     ]
    }
   ],
   "source": [
    "best_mlp = create_mlp_model(\n",
    "    hidden_layer_sizes=best_params['hidden_layer_sizes'],\n",
    "    activation=best_params['activation'],\n",
    "    alpha=best_params['alpha'],\n",
    "    learning_rate_init=best_params['learning_rate_init'],\n",
    ")\n",
    "\n",
    "print(\"Training improved neural network...\")\n",
    "best_mlp.fit(X_train, y_train)\n",
    "\n",
    "print(\"Training completed!\")\n",
    "print(f\"Number of iterations: {best_mlp.n_iter_}\")\n",
    "print(f\"Final loss: {best_mlp.loss_:.4f}\")\n",
    "\n",
    "# Evaluate the improved model\n",
    "print(\"\\n=== IMPROVED NEURAL NETWORK RESULTS ===\")\n",
    "evaluate_model(best_mlp, X_val, y_val)\n",
    "\n",
    "# Evaluate on test set\n",
    "y_pred = best_mlp.predict(X_test)\n",
    "print(\"\\n============== Test Accuracy:\", accuracy_score(y_test, y_pred), \"==============\")\n",
    "print(classification_report(y_test, y_pred))"
   ]
  },
  {
   "cell_type": "markdown",
   "id": "1664fb08",
   "metadata": {},
   "source": [
    "## Model export"
   ]
  },
  {
   "cell_type": "code",
   "execution_count": null,
   "id": "fc4047b2",
   "metadata": {},
   "outputs": [
    {
     "name": "stdout",
     "output_type": "stream",
     "text": [
      "\n",
      "Encoded labels:\n",
      "       label        gesture\n",
      "0          0           fist\n",
      "6474       1          pinch\n",
      "14788      2           rest\n",
      "26702      3     wrist-back\n",
      "40248      4  wrist-forward\n",
      "Model exported to: ../models/gesture_recognition_1.2.7_20250822T125046Z\n"
     ]
    }
   ],
   "source": [
    "# train_export.py\n",
    "import json\n",
    "import os\n",
    "import joblib\n",
    "from sklearn.pipeline import Pipeline\n",
    "from sklearn.preprocessing import StandardScaler\n",
    "from sklearn.metrics import classification_report, accuracy_score\n",
    "from datetime import datetime\n",
    "\n",
    "FEATURE_NAMES = emg_cols  # Use the original EMG column names\n",
    "CLASS_NAMES = encoder.classes_.tolist()\n",
    "\n",
    "\n",
    "df = pd.read_csv(\"../data.csv\", sep=\";\")\n",
    "df = df.drop_duplicates()  # remove duplicate rows\n",
    "df = df.dropna() # remove rows with missing values\n",
    "\n",
    "\n",
    "# Separate features and labels\n",
    "encoder = LabelEncoder()\n",
    "df['label'] = encoder.fit_transform(df['gesture'])\n",
    "print(\"\\nEncoded labels:\")\n",
    "print(df[['label', 'gesture']].drop_duplicates())\n",
    "Y = df['label']\n",
    "X = df[emg_cols]\n",
    "\n",
    "\n",
    "X_train, X_eval, y_train, y_eval = train_test_split(X, Y, test_size=0.3, random_state=42)\n",
    "\n",
    "pipe = Pipeline([\n",
    "    (\"scaler\", StandardScaler()),\n",
    "    (\"clf\", create_mlp_model(\n",
    "        hidden_layer_sizes=best_params['hidden_layer_sizes'],\n",
    "        activation=best_params['activation'],\n",
    "        alpha=best_params['alpha'],\n",
    "        learning_rate_init=best_params['learning_rate_init'],\n",
    "    ))\n",
    "])\n",
    "\n",
    "pipe.fit(X_train, y_train)\n",
    "y_pred = pipe.predict(X_eval)\n",
    "\n",
    "metrics = {\n",
    "    \"accuracy\": float(accuracy_score(y_eval, y_pred)),\n",
    "    \"report\": classification_report(y_eval, y_pred, target_names=CLASS_NAMES, output_dict=True),\n",
    "}\n",
    "\n",
    "timestamp = datetime.utcnow().strftime(\"%Y%m%dT%H%M%SZ\")\n",
    "model_dir = f\"../models/gesture_recognition_1.2.7_{timestamp}\"\n",
    "os.makedirs(model_dir, exist_ok=True)\n",
    "\n",
    "# 1) Save pipeline\n",
    "joblib.dump(pipe, f\"{model_dir}/pipeline.joblib\")\n",
    "\n",
    "# 2) Save config (schema, classes, thresholds, etc.)\n",
    "config = {\n",
    "    \"feature_names\": FEATURE_NAMES,\n",
    "    \"class_names\": CLASS_NAMES,\n",
    "    \"top_k\": 2,\n",
    "    \"abstain_threshold\": 0.6,  # below this max prob => \"unknown\"\n",
    "    \"random_state\": 42,\n",
    "    \"library\": {\"sklearn\": \">=1.2\"},\n",
    "}\n",
    "with open(f\"{model_dir}/config.json\", \"w\") as f:\n",
    "    json.dump(config, f, indent=2)\n",
    "\n",
    "# 3) Save metrics\n",
    "with open(f\"{model_dir}/metrics.json\", \"w\") as f:\n",
    "    json.dump(metrics, f, indent=2)\n",
    "\n",
    "print(\"Model exported to:\", model_dir)\n"
   ]
  }
 ],
 "metadata": {
  "kernelspec": {
   "display_name": "Python 3",
   "language": "python",
   "name": "python3"
  },
  "language_info": {
   "codemirror_mode": {
    "name": "ipython",
    "version": 3
   },
   "file_extension": ".py",
   "mimetype": "text/x-python",
   "name": "python",
   "nbconvert_exporter": "python",
   "pygments_lexer": "ipython3",
   "version": "3.13.7"
  }
 },
 "nbformat": 4,
 "nbformat_minor": 5
}
